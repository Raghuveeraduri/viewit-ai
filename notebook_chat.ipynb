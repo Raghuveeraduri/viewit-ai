{
 "cells": [
  {
   "attachments": {},
   "cell_type": "markdown",
   "metadata": {},
   "source": [
    "# ViewIt AI"
   ]
  },
  {
   "cell_type": "code",
   "execution_count": 1,
   "metadata": {},
   "outputs": [],
   "source": [
    "import os\n",
    "import openai\n",
    "import pandas as pd\n",
    "from utils.prompts import *\n",
    "from langchain.chains.llm import LLMChain\n",
    "from langchain.tools import GooglePlacesTool\n",
    "from langchain.chat_models import ChatOpenAI\n",
    "from langchain.callbacks import get_openai_callback\n",
    "from langchain.memory import ConversationBufferMemory\n",
    "from langchain.tools.python.tool import PythonAstREPLTool\n",
    "from langchain.agents import ZeroShotAgent, AgentExecutor"
   ]
  },
  {
   "cell_type": "code",
   "execution_count": 2,
   "metadata": {},
   "outputs": [],
   "source": [
    "def load_data(filename) -> pd.DataFrame:\n",
    "    df = pd.read_csv(f\"data/{filename}\")\n",
    "\n",
    "    df['Date'] = pd.to_datetime(df['Date'])\n",
    "    # .dt.date\n",
    "    return df\n",
    "\n",
    "\n",
    "def create_pandas_dataframe_agent(\n",
    "        llm,\n",
    "        df: pd.DataFrame,\n",
    "        prefix: str,\n",
    "        suffix: str,\n",
    "        format_instructions: str,\n",
    "        verbose: bool,\n",
    "        **kwargs) -> AgentExecutor:\n",
    "    \"\"\"Construct a pandas agent from an LLM and dataframe.\"\"\"\n",
    "\n",
    "    if not isinstance(df, pd.DataFrame):\n",
    "        raise ValueError(f\"Expected pandas object, got {type(df)}\")\n",
    "\n",
    "    input_variables = [\"df\", \"input\", \"chat_history\", \"agent_scratchpad\"]\n",
    "\n",
    "    # Set up memory\n",
    "    memory = ConversationBufferMemory(memory_key=\"chat_history\")\n",
    "\n",
    "    tools = [PythonAstREPLTool(locals={\"df\": df}), GooglePlacesTool()]\n",
    "\n",
    "    prompt = ZeroShotAgent.create_prompt(\n",
    "        tools=tools,\n",
    "        prefix=prefix,\n",
    "        suffix=suffix,\n",
    "        format_instructions=format_instructions,\n",
    "        input_variables=input_variables\n",
    "    )\n",
    "    partial_prompt = prompt.partial(df=str(df.head()))\n",
    "\n",
    "    llm_chain = LLMChain(\n",
    "        llm=llm,\n",
    "        prompt=partial_prompt\n",
    "    )\n",
    "    tool_names = [tool.name for tool in tools]\n",
    "\n",
    "    agent = ZeroShotAgent(llm_chain=llm_chain,\n",
    "                          allowed_tools=tool_names, verbose=verbose)\n",
    "\n",
    "    return AgentExecutor.from_agent_and_tools(\n",
    "        agent=agent,\n",
    "        tools=tools,\n",
    "        verbose=verbose,\n",
    "        memory=memory,\n",
    "        **kwargs\n",
    "    )"
   ]
  },
  {
   "cell_type": "code",
   "execution_count": 12,
   "metadata": {},
   "outputs": [
    {
     "name": "stderr",
     "output_type": "stream",
     "text": [
      "C:\\Users\\ga201\\AppData\\Local\\Temp\\ipykernel_18240\\2906168871.py:4: UserWarning: Parsing dates in DD/MM/YYYY format when dayfirst=False (the default) was specified. This may lead to inconsistently parsed dates! Specify a format to ensure consistent parsing.\n",
      "  df['Date'] = pd.to_datetime(df['Date'])\n"
     ]
    }
   ],
   "source": [
    "MODEL_NAME = \"gpt-4\"\n",
    "TEMPERATURE = 0.1\n",
    "df = load_data('reidin_new.csv')\n",
    "api_key = os.environ[\"OPENAI_API_KEY\"]\n",
    "org = \"\"\n",
    "\n",
    "llm = ChatOpenAI(temperature=TEMPERATURE,\n",
    "                    model_name=MODEL_NAME,\n",
    "                    openai_api_key=api_key)\n",
    "\n",
    "# llm = OpenAI(temperature=TEMPERATURE,\n",
    "#                 model_name=MODEL_NAME,\n",
    "#                 openai_api_key=api_key)\n",
    "\n",
    "# ViewIt OpenAI API key\n",
    "openai.organization = org\n",
    "openai.api_key = api_key\n",
    "\n",
    "agent = create_pandas_dataframe_agent(\n",
    "    llm=llm,\n",
    "    df=df,\n",
    "    prefix=REIDIN_PREFIX,\n",
    "    suffix=SUFFIX,\n",
    "    format_instructions=FORMAT_INSTRUCTIONS,\n",
    "    verbose=True,\n",
    "    handle_parsing_errors=True,\n",
    "    # max_execution_time=30,\n",
    ")"
   ]
  },
  {
   "cell_type": "code",
   "execution_count": 13,
   "metadata": {},
   "outputs": [],
   "source": [
    "def ask(query, token_verbose = True):\n",
    "    if token_verbose:\n",
    "        with get_openai_callback() as cb:\n",
    "            agent.run(query)\n",
    "            print(cb)\n",
    "    else:\n",
    "        agent.run(query)"
   ]
  },
  {
   "cell_type": "code",
   "execution_count": 14,
   "metadata": {},
   "outputs": [
    {
     "name": "stdout",
     "output_type": "stream",
     "text": [
      "\n",
      "\n",
      "\u001b[1m> Entering new AgentExecutor chain...\u001b[0m\n"
     ]
    },
    {
     "name": "stderr",
     "output_type": "stream",
     "text": [
      "Retrying langchain.chat_models.openai.ChatOpenAI.completion_with_retry.<locals>._completion_with_retry in 4.0 seconds as it raised APIConnectionError: Error communicating with OpenAI: ('Connection aborted.', RemoteDisconnected('Remote end closed connection without response')).\n"
     ]
    },
    {
     "name": "stdout",
     "output_type": "stream",
     "text": [
      "\u001b[32;1m\u001b[1;3mNo need to use a tool.\n",
      "Final Answer: Hello! How can I assist you today?\u001b[0m\n",
      "\n",
      "\u001b[1m> Finished chain.\u001b[0m\n",
      "Tokens Used: 1337\n",
      "\tPrompt Tokens: 1318\n",
      "\tCompletion Tokens: 19\n",
      "Successful Requests: 1\n",
      "Total Cost (USD): $0.04068\n"
     ]
    }
   ],
   "source": [
    "ask('Hi')"
   ]
  }
 ],
 "metadata": {
  "kernelspec": {
   "display_name": "py310",
   "language": "python",
   "name": "python3"
  },
  "language_info": {
   "codemirror_mode": {
    "name": "ipython",
    "version": 3
   },
   "file_extension": ".py",
   "mimetype": "text/x-python",
   "name": "python",
   "nbconvert_exporter": "python",
   "pygments_lexer": "ipython3",
   "version": "3.11.2"
  },
  "orig_nbformat": 4
 },
 "nbformat": 4,
 "nbformat_minor": 2
}

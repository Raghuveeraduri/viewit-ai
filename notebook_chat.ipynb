{
 "cells": [
  {
   "attachments": {},
   "cell_type": "markdown",
   "metadata": {},
   "source": [
    "# ViewIt AI"
   ]
  },
  {
   "cell_type": "code",
   "execution_count": 1,
   "metadata": {},
   "outputs": [],
   "source": [
    "import os\n",
    "import openai\n",
    "import pandas as pd\n",
    "from prompts import *\n",
    "from langchain import LLMChain\n",
    "from langchain.tools import GooglePlacesTool\n",
    "from langchain.chat_models import ChatOpenAI\n",
    "from langchain.callbacks import get_openai_callback\n",
    "from langchain.memory import ConversationBufferMemory\n",
    "from langchain.tools.python.tool import PythonAstREPLTool\n",
    "from langchain.agents import ZeroShotAgent, AgentExecutor"
   ]
  },
  {
   "cell_type": "code",
   "execution_count": 2,
   "metadata": {},
   "outputs": [],
   "source": [
    "\n",
    "def load_data(filename) -> pd.DataFrame:\n",
    "    df = pd.read_csv(f\"data/{filename}\")\n",
    "\n",
    "    df['Date'] = pd.to_datetime(df['Date'])\n",
    "    # .dt.date\n",
    "    return df\n",
    "\n",
    "\n",
    "\n",
    "def create_pandas_dataframe_agent(\n",
    "        llm,\n",
    "        df: pd.DataFrame,\n",
    "        prefix: str,\n",
    "        suffix: str,\n",
    "        format_instructions: str,\n",
    "        verbose: bool,\n",
    "        **kwargs) -> AgentExecutor:\n",
    "    \"\"\"Construct a pandas agent from an LLM and dataframe.\"\"\"\n",
    "\n",
    "    if not isinstance(df, pd.DataFrame):\n",
    "        raise ValueError(f\"Expected pandas object, got {type(df)}\")\n",
    "\n",
    "    input_variables = [\"df\", \"input\", \"chat_history\", \"agent_scratchpad\"]\n",
    "\n",
    "    # Set up memory\n",
    "    memory = ConversationBufferMemory(memory_key=\"chat_history\")\n",
    "\n",
    "    tools = [PythonAstREPLTool(locals={\"df\": df}), GooglePlacesTool()]\n",
    "\n",
    "    prompt = ZeroShotAgent.create_prompt(\n",
    "        tools=tools,\n",
    "        prefix=prefix,\n",
    "        suffix=suffix,\n",
    "        format_instructions=format_instructions,\n",
    "        input_variables=input_variables\n",
    "    )\n",
    "    partial_prompt = prompt.partial(df=str(df.head()))\n",
    "\n",
    "    llm_chain = LLMChain(\n",
    "        llm=llm,\n",
    "        prompt=partial_prompt\n",
    "    )\n",
    "    tool_names = [tool.name for tool in tools]\n",
    "\n",
    "    agent = ZeroShotAgent(llm_chain=llm_chain,\n",
    "                          allowed_tools=tool_names, verbose=verbose)\n",
    "\n",
    "    return AgentExecutor.from_agent_and_tools(\n",
    "        agent=agent,\n",
    "        tools=tools,\n",
    "        verbose=verbose,\n",
    "        memory=memory,\n",
    "        **kwargs\n",
    "    )\n"
   ]
  },
  {
   "cell_type": "code",
   "execution_count": 3,
   "metadata": {},
   "outputs": [
    {
     "name": "stderr",
     "output_type": "stream",
     "text": [
      "C:\\Users\\ga201\\AppData\\Local\\Temp\\ipykernel_22496\\653537657.py:4: UserWarning: Parsing dates in DD/MM/YYYY format when dayfirst=False (the default) was specified. This may lead to inconsistently parsed dates! Specify a format to ensure consistent parsing.\n",
      "  df['Date'] = pd.to_datetime(df['Date'])\n"
     ]
    }
   ],
   "source": [
    "\n",
    "# VARIABLES\n",
    "MODEL_NAME = \"gpt-4\"\n",
    "TEMPERATURE = 0.1\n",
    "df = load_data('reidin_new.csv')\n",
    "api_key = os.environ[\"OPENAI_API_KEY\"]\n",
    "org = \"\"\n",
    "\n",
    "llm = ChatOpenAI(temperature=TEMPERATURE,\n",
    "                    model_name='gpt-4',\n",
    "                    openai_api_key=api_key)\n",
    "\n",
    "# llm = OpenAI(temperature=TEMPERATURE,\n",
    "#                 model_name=MODEL_NAME,\n",
    "#                 openai_api_key=api_key)\n",
    "\n",
    "# ViewIt OpenAI API key\n",
    "openai.organization = org\n",
    "openai.api_key = api_key\n",
    "\n",
    "agent = create_pandas_dataframe_agent(\n",
    "    llm=llm,\n",
    "    df=df,\n",
    "    prefix=REIDIN_PREFIX,\n",
    "    suffix=SUFFIX,\n",
    "    format_instructions=FORMAT_INSTRUCTIONS,\n",
    "    verbose=True,\n",
    "    handle_parsing_errors=True,\n",
    "    # max_execution_time=30,\n",
    ")"
   ]
  },
  {
   "cell_type": "code",
   "execution_count": 4,
   "metadata": {},
   "outputs": [],
   "source": [
    "def ask(query, token_verbose = True):\n",
    "    if token_verbose:\n",
    "        with get_openai_callback() as cb:\n",
    "            agent.run(query)\n",
    "            print(cb)\n",
    "    else:\n",
    "        agent.run(query)"
   ]
  },
  {
   "cell_type": "code",
   "execution_count": 5,
   "metadata": {},
   "outputs": [
    {
     "name": "stdout",
     "output_type": "stream",
     "text": [
      "\n",
      "\n",
      "\u001b[1m> Entering new AgentExecutor chain...\u001b[0m\n",
      "\u001b[32;1m\u001b[1;3mThe client wants to know about the most expensive property unit. I can find this by sorting the dataframe by the 'Price' column in descending order and then selecting the first row.\n",
      "Action: python_repl_ast\n",
      "Action Input: \n",
      "```python\n",
      "import pandas as pd\n",
      "pd.set_option('display.max_columns',None)\n",
      "df.sort_values(by='Price', ascending=False).head(1)\n",
      "```\u001b[0m\n",
      "Observation: \u001b[36;1m\u001b[1;3m      Sales Type       Date  \\\n",
      "33852      Ready 2022-10-13   \n",
      "\n",
      "                                                Location Property Type  \\\n",
      "33852  Signature Villas Frond N (Al Naghal), Palm Jum...         Villa   \n",
      "\n",
      "       Bedrooms  Balcony Area  Built-up Area  Plot Size        Price  \\\n",
      "33852         6           0.0        26910.0   59569.38  600000000.0   \n",
      "\n",
      "          Developer  Studio  \n",
      "33852  Nakheel PJSC   False  \u001b[0m\n",
      "Thought:\u001b[32;1m\u001b[1;3mI now know the final answer.\n",
      "Final Answer: The most expensive unit is a ready-to-move-in Villa located in Signature Villas Frond N (Al Naghal), Palm Jumeirah. It was sold on October 13, 2022. The villa has 6 bedrooms, a built-up area of 26,910 square feet, and a plot size of 59,569.38 square feet. The property was developed by Nakheel PJSC and it was sold for a price of 600,000,000 AED.\u001b[0m\n",
      "\n",
      "\u001b[1m> Finished chain.\u001b[0m\n",
      "Tokens Used: 3060\n",
      "\tPrompt Tokens: 2868\n",
      "\tCompletion Tokens: 192\n",
      "Successful Requests: 2\n",
      "Total Cost (USD): $0.09756\n"
     ]
    }
   ],
   "source": [
    "ask('What is the most expensive unit?')"
   ]
  },
  {
   "cell_type": "code",
   "execution_count": 13,
   "metadata": {},
   "outputs": [
    {
     "name": "stdout",
     "output_type": "stream",
     "text": [
      "\n",
      "\n",
      "\u001b[1m> Entering new AgentExecutor chain...\u001b[0m\n",
      "\u001b[32;1m\u001b[1;3mYes\n",
      "Action: python_repl_ast\n",
      "Action Input: df[(df['Location'].str.contains('JVC')) & (df['Property Type'] == 'Villa')].sort_values(by='Price', ascending=False).head(1)\u001b[0m\n",
      "Observation: \u001b[36;1m\u001b[1;3m       Sales Type       Date  \\\n",
      "118584   Off Plan 2019-12-24   \n",
      "\n",
      "                                                 Location Property Type  \\\n",
      "118584  JVC Villa and Townhouses - District 16, Jumeir...         Villa   \n",
      "\n",
      "        Bedrooms  Balcony Area  Built-up Area  Plot Size       Price  \\\n",
      "118584         3           0.0         3828.0   27427.96  10354800.0   \n",
      "\n",
      "           Developer  Studio  \n",
      "118584  Nakheel PJSC   False  \u001b[0m\n",
      "Thought:\u001b[32;1m\u001b[1;3mI now know the final answer\n",
      "Final Answer: The best villa to buy in JVC, based on the highest price, is a villa located in 'JVC Villa and Townhouses - District 16, Jumeirah Village Circle'. This villa is an off-plan property sold on December 24, 2019. It has 3 bedrooms, a built-up area of 3,828 square feet, and a plot size of 27,427.96 square feet. The price of this villa is 10,354,800 AED and it was developed by Nakheel PJSC.\u001b[0m\n",
      "\n",
      "\u001b[1m> Finished chain.\u001b[0m\n"
     ]
    },
    {
     "data": {
      "text/plain": [
       "\"The best villa to buy in JVC, based on the highest price, is a villa located in 'JVC Villa and Townhouses - District 16, Jumeirah Village Circle'. This villa is an off-plan property sold on December 24, 2019. It has 3 bedrooms, a built-up area of 3,828 square feet, and a plot size of 27,427.96 square feet. The price of this villa is 10,354,800 AED and it was developed by Nakheel PJSC.\""
      ]
     },
     "execution_count": 13,
     "metadata": {},
     "output_type": "execute_result"
    }
   ],
   "source": [
    "agent.run('Search for the property type `villa` in JVC')"
   ]
  },
  {
   "cell_type": "code",
   "execution_count": 12,
   "metadata": {},
   "outputs": [
    {
     "name": "stdout",
     "output_type": "stream",
     "text": [
      "\n",
      "\n",
      "\u001b[1m> Entering new AgentExecutor chain...\u001b[0m\n"
     ]
    },
    {
     "name": "stderr",
     "output_type": "stream",
     "text": [
      "Retrying langchain.chat_models.openai.ChatOpenAI.completion_with_retry.<locals>._completion_with_retry in 4.0 seconds as it raised APIConnectionError: Error communicating with OpenAI: ('Connection aborted.', RemoteDisconnected('Remote end closed connection without response')).\n"
     ]
    },
    {
     "name": "stdout",
     "output_type": "stream",
     "text": [
      "\u001b[32;1m\u001b[1;3mThe customer is asking for the best villa to buy in JVC. To determine the \"best\" villa, I will consider the villa with the highest price as the best. This is because in real estate, price is often a reflection of quality, location, size, and other desirable features. I will use the pandas dataframe to filter for villas in JVC and then sort by price in descending order.\n",
      "Action: python_repl_ast\n",
      "Action Input: df[(df['Location'].str.contains('JVC')) & (df['Property Type'] == 'Villa')].sort_values(by='Price', ascending=False).head(1)\u001b[0m\n",
      "Observation: \u001b[36;1m\u001b[1;3m       Sales Type       Date  \\\n",
      "118584   Off Plan 2019-12-24   \n",
      "\n",
      "                                                 Location Property Type  \\\n",
      "118584  JVC Villa and Townhouses - District 16, Jumeir...         Villa   \n",
      "\n",
      "        Bedrooms  Balcony Area  Built-up Area  Plot Size       Price  \\\n",
      "118584         3           0.0         3828.0   27427.96  10354800.0   \n",
      "\n",
      "           Developer  Studio  \n",
      "118584  Nakheel PJSC   False  \u001b[0m\n",
      "Thought:\u001b[32;1m\u001b[1;3mI now know the final answer.\n",
      "Final Answer: The best villa to buy in JVC, based on the highest price, is a villa located in 'JVC Villa and Townhouses - District 16, Jumeirah Village Circle'. This villa is an off-plan property sold on December 24, 2019. It has 3 bedrooms, a built-up area of 3,828 square feet, and a plot size of 27,427.96 square feet. The price of this villa is 10,354,800 AED and it was developed by Nakheel PJSC.\u001b[0m\n",
      "\n",
      "\u001b[1m> Finished chain.\u001b[0m\n"
     ]
    },
    {
     "data": {
      "text/plain": [
       "\"The best villa to buy in JVC, based on the highest price, is a villa located in 'JVC Villa and Townhouses - District 16, Jumeirah Village Circle'. This villa is an off-plan property sold on December 24, 2019. It has 3 bedrooms, a built-up area of 3,828 square feet, and a plot size of 27,427.96 square feet. The price of this villa is 10,354,800 AED and it was developed by Nakheel PJSC.\""
      ]
     },
     "execution_count": 12,
     "metadata": {},
     "output_type": "execute_result"
    }
   ],
   "source": [
    "agent.run('What is the best villa to buy in JVC?')"
   ]
  },
  {
   "cell_type": "code",
   "execution_count": null,
   "metadata": {},
   "outputs": [],
   "source": []
  }
 ],
 "metadata": {
  "kernelspec": {
   "display_name": "py310",
   "language": "python",
   "name": "python3"
  },
  "language_info": {
   "codemirror_mode": {
    "name": "ipython",
    "version": 3
   },
   "file_extension": ".py",
   "mimetype": "text/x-python",
   "name": "python",
   "nbconvert_exporter": "python",
   "pygments_lexer": "ipython3",
   "version": "3.11.2"
  },
  "orig_nbformat": 4
 },
 "nbformat": 4,
 "nbformat_minor": 2
}

{
 "cells": [
  {
   "cell_type": "markdown",
   "metadata": {},
   "source": [
    "# Question-Answer System"
   ]
  },
  {
   "cell_type": "code",
   "execution_count": 1,
   "metadata": {},
   "outputs": [],
   "source": [
    "import pandas as pd\n",
    "import numpy as np\n",
    "import openai\n",
    "from openai.embeddings_utils import distances_from_embeddings"
   ]
  },
  {
   "cell_type": "code",
   "execution_count": 2,
   "metadata": {},
   "outputs": [
    {
     "data": {
      "text/html": [
       "<div>\n",
       "<style scoped>\n",
       "    .dataframe tbody tr th:only-of-type {\n",
       "        vertical-align: middle;\n",
       "    }\n",
       "\n",
       "    .dataframe tbody tr th {\n",
       "        vertical-align: top;\n",
       "    }\n",
       "\n",
       "    .dataframe thead th {\n",
       "        text-align: right;\n",
       "    }\n",
       "</style>\n",
       "<table border=\"1\" class=\"dataframe\">\n",
       "  <thead>\n",
       "    <tr style=\"text-align: right;\">\n",
       "      <th></th>\n",
       "      <th>text</th>\n",
       "      <th>n_tokens</th>\n",
       "      <th>embeddings</th>\n",
       "    </tr>\n",
       "  </thead>\n",
       "  <tbody>\n",
       "    <tr>\n",
       "      <th>0</th>\n",
       "      <td>.  View IT - Dubai's number one property websi...</td>\n",
       "      <td>331</td>\n",
       "      <td>[-0.000547883624676615, 3.8956197386141866e-05...</td>\n",
       "    </tr>\n",
       "    <tr>\n",
       "      <th>1</th>\n",
       "      <td>Beds    1    2    3    4    5    6     ViewIT ...</td>\n",
       "      <td>486</td>\n",
       "      <td>[0.004306596703827381, 0.018169928342103958, -...</td>\n",
       "    </tr>\n",
       "    <tr>\n",
       "      <th>2</th>\n",
       "      <td>.  View IT - Dubai's number one property websi...</td>\n",
       "      <td>331</td>\n",
       "      <td>[-0.0005997214466333389, 2.804505356834852e-06...</td>\n",
       "    </tr>\n",
       "    <tr>\n",
       "      <th>3</th>\n",
       "      <td>Beds    1    2    3    4    5    6     ViewIT ...</td>\n",
       "      <td>486</td>\n",
       "      <td>[0.004306596703827381, 0.018169928342103958, -...</td>\n",
       "    </tr>\n",
       "    <tr>\n",
       "      <th>4</th>\n",
       "      <td>about#contact form.  View IT - Dubai's number ...</td>\n",
       "      <td>488</td>\n",
       "      <td>[-0.005938783288002014, -0.014180973172187805,...</td>\n",
       "    </tr>\n",
       "  </tbody>\n",
       "</table>\n",
       "</div>"
      ],
      "text/plain": [
       "                                                text  n_tokens  \\\n",
       "0  .  View IT - Dubai's number one property websi...       331   \n",
       "1  Beds    1    2    3    4    5    6     ViewIT ...       486   \n",
       "2  .  View IT - Dubai's number one property websi...       331   \n",
       "3  Beds    1    2    3    4    5    6     ViewIT ...       486   \n",
       "4  about#contact form.  View IT - Dubai's number ...       488   \n",
       "\n",
       "                                          embeddings  \n",
       "0  [-0.000547883624676615, 3.8956197386141866e-05...  \n",
       "1  [0.004306596703827381, 0.018169928342103958, -...  \n",
       "2  [-0.0005997214466333389, 2.804505356834852e-06...  \n",
       "3  [0.004306596703827381, 0.018169928342103958, -...  \n",
       "4  [-0.005938783288002014, -0.014180973172187805,...  "
      ]
     },
     "execution_count": 2,
     "metadata": {},
     "output_type": "execute_result"
    }
   ],
   "source": [
    "df = pd.read_csv('processed/embeddings.csv', index_col=0)\n",
    "\n",
    "# Convert embeddings to numpy array\n",
    "df['embeddings'] = df['embeddings'].apply(eval).apply(np.array)\n",
    "df.head()"
   ]
  },
  {
   "cell_type": "markdown",
   "metadata": {},
   "source": [
    "### Convert questions (prompts) into embeddings"
   ]
  },
  {
   "cell_type": "code",
   "execution_count": 3,
   "metadata": {},
   "outputs": [],
   "source": [
    "def create_context(question, df, maxlen=1800, size=\"ada\"):\n",
    "    '''\n",
    "    Create a context for a question by finding the most similar context from the DataFrame\n",
    "    '''\n",
    "\n",
    "    # Get embeddings for question\n",
    "    q_embeddings = openai.Embedding.create(input=question, engine=\"text-embedding-ada-002\")['data'][0]['embedding']\n",
    "\n",
    "    # Get distance from embeddings\n",
    "    df['distances'] = distances_from_embeddings(q_embeddings, df['embeddings'].values, distance_metric='cosine')\n",
    "\n",
    "    returns = []\n",
    "    cur_len = 0\n",
    "\n",
    "    # Sort by distance and add text to context till context is too long\n",
    "    for i, row in df.sort_values('distances', ascending=True).iterrows():\n",
    "\n",
    "        # Add length of text to current length\n",
    "        cur_len += row['n_tokens'] + 4\n",
    "\n",
    "        # If context too long, break\n",
    "        if cur_len > maxlen:\n",
    "            break\n",
    "\n",
    "        # Else add it to the text being returned\n",
    "        returns.append(row['text'])\n",
    "\n",
    "    # Return context\n",
    "    return '\\n\\n###\\n\\n'.join(returns)"
   ]
  },
  {
   "cell_type": "code",
   "execution_count": 4,
   "metadata": {},
   "outputs": [],
   "source": [
    "def answer_question(\n",
    "        df=df,\n",
    "        model= \"text-davinci-003\",\n",
    "        question = \"Hi, please introduce yourself\", # This is the default question\n",
    "        max_len = 1800,\n",
    "        size = 'ada',\n",
    "        debug = False,\n",
    "        max_tokens = 500,\n",
    "        stop_sequence = None\n",
    "):\n",
    "    '''\n",
    "    Answer a question based on the most similar context from DataFrame texts\n",
    "    '''\n",
    "    context = create_context(\n",
    "        question,\n",
    "        df,\n",
    "        maxlen=max_len,\n",
    "        size=size\n",
    "    )\n",
    "\n",
    "    # if debug enabled, print raw response\n",
    "    if debug:\n",
    "        print('Context:\\n' + context)\n",
    "        print('\\n\\n')\n",
    "\n",
    "    try:\n",
    "        # create Completion using question and context\n",
    "        response = openai.Completion.create(\n",
    "            prompt= f\"\"\"You are a virtual property broker for the real estate company 'ViewIt'. Be friendly and welcoming and answer the question based on the context below.\n",
    "            \n",
    "            Context: {context}\n",
    "            \n",
    "            ---\n",
    "            \n",
    "            Question: {question}\n",
    "            Answer: \"\"\",\n",
    "            temperature=0,\n",
    "            max_tokens=max_tokens,\n",
    "            top_p=1,\n",
    "            frequency_penalty=0,\n",
    "            presence_penalty=0,\n",
    "            stop=stop_sequence,\n",
    "            model=model\n",
    "        )\n",
    "        return response['choices'][0]['text'].strip()\n",
    "    except Exception as e:\n",
    "        print(e)\n",
    "        return ''"
   ]
  },
  {
   "cell_type": "code",
   "execution_count": 5,
   "metadata": {},
   "outputs": [
    {
     "data": {
      "text/plain": [
       "'We have a wide range of properties available for sale and rent, ranging from apartments, townhouses, and villas. You can find properties with a minimum rent of 20,000 and a maximum rent of 1,000,000, and with a minimum of 1 bedroom and a maximum of 6 bedrooms.'"
      ]
     },
     "execution_count": 5,
     "metadata": {},
     "output_type": "execute_result"
    }
   ],
   "source": [
    "answer_question(df, question='What kind of properties are available?')"
   ]
  },
  {
   "cell_type": "code",
   "execution_count": null,
   "metadata": {},
   "outputs": [],
   "source": []
  }
 ],
 "metadata": {
  "kernelspec": {
   "display_name": "py310",
   "language": "python",
   "name": "python3"
  },
  "language_info": {
   "codemirror_mode": {
    "name": "ipython",
    "version": 3
   },
   "file_extension": ".py",
   "mimetype": "text/x-python",
   "name": "python",
   "nbconvert_exporter": "python",
   "pygments_lexer": "ipython3",
   "version": "3.10.9"
  },
  "orig_nbformat": 4
 },
 "nbformat": 4,
 "nbformat_minor": 2
}
